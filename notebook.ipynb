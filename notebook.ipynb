{
  "cells": [
    {
      "cell_type": "markdown",
      "metadata": {
        "id": "H9wADwK78DCz"
      },
      "source": [
        "# Proyek Analisis Data: E-Commerce Public Dataset\n",
        "- **Nama:** Amanda Betania Maritza\n",
        "- **Email:** amandamaritza2004@gmail.com\n",
        "- **ID Dicoding:** amandabetaniamaritza"
      ]
    },
    {
      "cell_type": "markdown",
      "metadata": {
        "id": "eE0raob58DC0"
      },
      "source": [
        "## Menentukan Pertanyaan Bisnis"
      ]
    },
    {
      "cell_type": "markdown",
      "metadata": {
        "id": "GmQeQ5YF8DC0"
      },
      "source": [
        "- Bagaimanan tren penjualan bulanan?\n",
        "- Apakah ada korelasi antara review produk dan penjualannya?"
      ]
    },
    {
      "cell_type": "markdown",
      "metadata": {
        "id": "H-z4QGlO8DC1"
      },
      "source": [
        "## Import Semua Packages/Library yang Digunakan"
      ]
    },
    {
      "cell_type": "code",
      "execution_count": null,
      "metadata": {
        "id": "FVYwaObI8DC1"
      },
      "outputs": [],
      "source": [
        "import os\n",
        "import pandas as pd\n",
        "import seaborn as sns\n",
        "import matplotlib.pyplot as plt\n",
        "import matplotlib.ticker as ticker"
      ]
    },
    {
      "cell_type": "markdown",
      "source": [
        "### Sambungkan dengan Google Drive"
      ],
      "metadata": {
        "id": "ts5Z41aAiuEU"
      }
    },
    {
      "cell_type": "code",
      "source": [
        "from google.colab import drive\n",
        "drive.mount('/content/drive')"
      ],
      "metadata": {
        "colab": {
          "base_uri": "https://localhost:8080/"
        },
        "id": "sak9Pe8vitYe",
        "outputId": "1560aa45-5297-4c1a-d738-289c84d0d8e4"
      },
      "execution_count": null,
      "outputs": [
        {
          "output_type": "stream",
          "name": "stdout",
          "text": [
            "Drive already mounted at /content/drive; to attempt to forcibly remount, call drive.mount(\"/content/drive\", force_remount=True).\n"
          ]
        }
      ]
    },
    {
      "cell_type": "markdown",
      "metadata": {
        "id": "h_Sh51Xy8DC1"
      },
      "source": [
        "## **Data Wrangling**"
      ]
    },
    {
      "cell_type": "markdown",
      "metadata": {
        "id": "sXU2GBYu8DC1"
      },
      "source": [
        "### Gathering Data"
      ]
    },
    {
      "cell_type": "code",
      "execution_count": null,
      "metadata": {
        "id": "zjCBk1BI8DC1",
        "colab": {
          "base_uri": "https://localhost:8080/"
        },
        "outputId": "df8f029f-e854-4aec-d812-0ce6fc481972"
      },
      "outputs": [
        {
          "output_type": "stream",
          "name": "stdout",
          "text": [
            "List of files read into dataframes:\n",
            "customers_dataset.csv\n",
            "sellers_dataset.csv\n",
            "order_items_dataset.csv\n",
            "geolocation_dataset.csv\n",
            "order_payments_dataset.csv\n",
            "order_reviews_dataset.csv\n",
            "orders_dataset.csv\n",
            "products_dataset.csv\n",
            "product_category_name_translation.csv\n"
          ]
        }
      ],
      "source": [
        "#Path menuju folder dataset yang berisi beberapa file dataset\n",
        "dataset_path = '/content/drive/MyDrive/mechine-learning/E-commerce-public-dataset/E-Commerce Public Dataset'\n",
        "file_names = []\n",
        "\n",
        "#Mengakses seluruh file dataset yang ada pada folder\n",
        "for file in os.listdir(dataset_path):\n",
        "    if file.endswith('.csv'):\n",
        "        file_path = os.path.join(dataset_path, file)\n",
        "\n",
        "        file_names.append(file)\n",
        "\n",
        "# Tampilkan daftar file yang telah dibaca\n",
        "print(\"List of files read into dataframes:\")\n",
        "for name in file_names:\n",
        "    print(name)"
      ]
    },
    {
      "cell_type": "code",
      "source": [
        "#Membaca file yang akan di-merge\n",
        "order_path1 = os.path.join(dataset_path, 'order_items_dataset.csv')\n",
        "order_path2 = os.path.join(dataset_path, 'orders_dataset.csv')\n",
        "order_path3 = os.path.join(dataset_path, 'order_reviews_dataset.csv')\n",
        "df1 = pd.read_csv(order_path1)\n",
        "df2 = pd.read_csv(order_path2)\n",
        "df3 = pd.read_csv(order_path3)\n",
        "\n",
        "#Melakukan merge dengan menggunakan primary key order_id\n",
        "data_df = pd.merge(df1, df2, on='order_id', how='inner')\n",
        "data_df = pd.merge(data_df, df3, on='order_id', how='inner')\n",
        "\n",
        "#Menampilkan beberapa data yang sudah di-merge\n",
        "data_df.head()"
      ],
      "metadata": {
        "colab": {
          "base_uri": "https://localhost:8080/",
          "height": 278
        },
        "id": "6eUqHK5_n3QZ",
        "outputId": "4ca92b9c-5785-4608-d779-0f5614a5d63d"
      },
      "execution_count": null,
      "outputs": [
        {
          "output_type": "execute_result",
          "data": {
            "text/plain": [
              "                           order_id  order_item_id  \\\n",
              "0  00010242fe8c5a6d1ba2dd792cb16214              1   \n",
              "1  00018f77f2f0320c557190d7a144bdd3              1   \n",
              "2  000229ec398224ef6ca0657da4fc703e              1   \n",
              "3  00024acbcdf0a6daa1e931b038114c75              1   \n",
              "4  00042b26cf59d7ce69dfabb4e55b4fd9              1   \n",
              "\n",
              "                         product_id                         seller_id  \\\n",
              "0  4244733e06e7ecb4970a6e2683c13e61  48436dade18ac8b2bce089ec2a041202   \n",
              "1  e5f2d52b802189ee658865ca93d83a8f  dd7ddc04e1b6c2c614352b383efe2d36   \n",
              "2  c777355d18b72b67abbeef9df44fd0fd  5b51032eddd242adc84c38acab88f23d   \n",
              "3  7634da152a4610f1595efa32f14722fc  9d7a1d34a5052409006425275ba1c2b4   \n",
              "4  ac6c3623068f30de03045865e4e10089  df560393f3a51e74553ab94004ba5c87   \n",
              "\n",
              "   shipping_limit_date   price  freight_value  \\\n",
              "0  2017-09-19 09:45:35   58.90          13.29   \n",
              "1  2017-05-03 11:05:13  239.90          19.93   \n",
              "2  2018-01-18 14:48:30  199.00          17.87   \n",
              "3  2018-08-15 10:10:18   12.99          12.79   \n",
              "4  2017-02-13 13:57:51  199.90          18.14   \n",
              "\n",
              "                        customer_id order_status order_purchase_timestamp  \\\n",
              "0  3ce436f183e68e07877b285a838db11a    delivered      2017-09-13 08:59:02   \n",
              "1  f6dd3ec061db4e3987629fe6b26e5cce    delivered      2017-04-26 10:53:06   \n",
              "2  6489ae5e4333f3693df5ad4372dab6d3    delivered      2018-01-14 14:33:31   \n",
              "3  d4eb9395c8c0431ee92fce09860c5a06    delivered      2018-08-08 10:00:35   \n",
              "4  58dbd0b2d70206bf40e62cd34e84d795    delivered      2017-02-04 13:57:51   \n",
              "\n",
              "     order_approved_at order_delivered_carrier_date  \\\n",
              "0  2017-09-13 09:45:35          2017-09-19 18:34:16   \n",
              "1  2017-04-26 11:05:13          2017-05-04 14:35:00   \n",
              "2  2018-01-14 14:48:30          2018-01-16 12:36:48   \n",
              "3  2018-08-08 10:10:18          2018-08-10 13:28:00   \n",
              "4  2017-02-04 14:10:13          2017-02-16 09:46:09   \n",
              "\n",
              "  order_delivered_customer_date order_estimated_delivery_date  \\\n",
              "0           2017-09-20 23:43:48           2017-09-29 00:00:00   \n",
              "1           2017-05-12 16:04:24           2017-05-15 00:00:00   \n",
              "2           2018-01-22 13:19:16           2018-02-05 00:00:00   \n",
              "3           2018-08-14 13:32:39           2018-08-20 00:00:00   \n",
              "4           2017-03-01 16:42:31           2017-03-17 00:00:00   \n",
              "\n",
              "                          review_id  review_score review_comment_title  \\\n",
              "0  97ca439bc427b48bc1cd7177abe71365             5                  NaN   \n",
              "1  7b07bacd811c4117b742569b04ce3580             4                  NaN   \n",
              "2  0c5b33dea94867d1ac402749e5438e8b             5                  NaN   \n",
              "3  f4028d019cb58564807486a6aaf33817             4                  NaN   \n",
              "4  940144190dcba6351888cafa43f3a3a5             5                  NaN   \n",
              "\n",
              "                              review_comment_message review_creation_date  \\\n",
              "0     Perfeito, produto entregue antes do combinado.  2017-09-21 00:00:00   \n",
              "1                                                NaN  2017-05-13 00:00:00   \n",
              "2  Chegou antes do prazo previsto e o produto sur...  2018-01-23 00:00:00   \n",
              "3                                                NaN  2018-08-15 00:00:00   \n",
              "4            Gostei pois veio no prazo determinado .  2017-03-02 00:00:00   \n",
              "\n",
              "  review_answer_timestamp  \n",
              "0     2017-09-22 10:57:03  \n",
              "1     2017-05-15 11:34:13  \n",
              "2     2018-01-23 16:06:31  \n",
              "3     2018-08-15 16:39:01  \n",
              "4     2017-03-03 10:54:59  "
            ],
            "text/html": [
              "\n",
              "  <div id=\"df-803cde2a-bc5b-4374-a4b6-17b8274ee6c5\" class=\"colab-df-container\">\n",
              "    <div>\n",
              "<style scoped>\n",
              "    .dataframe tbody tr th:only-of-type {\n",
              "        vertical-align: middle;\n",
              "    }\n",
              "\n",
              "    .dataframe tbody tr th {\n",
              "        vertical-align: top;\n",
              "    }\n",
              "\n",
              "    .dataframe thead th {\n",
              "        text-align: right;\n",
              "    }\n",
              "</style>\n",
              "<table border=\"1\" class=\"dataframe\">\n",
              "  <thead>\n",
              "    <tr style=\"text-align: right;\">\n",
              "      <th></th>\n",
              "      <th>order_id</th>\n",
              "      <th>order_item_id</th>\n",
              "      <th>product_id</th>\n",
              "      <th>seller_id</th>\n",
              "      <th>shipping_limit_date</th>\n",
              "      <th>price</th>\n",
              "      <th>freight_value</th>\n",
              "      <th>customer_id</th>\n",
              "      <th>order_status</th>\n",
              "      <th>order_purchase_timestamp</th>\n",
              "      <th>order_approved_at</th>\n",
              "      <th>order_delivered_carrier_date</th>\n",
              "      <th>order_delivered_customer_date</th>\n",
              "      <th>order_estimated_delivery_date</th>\n",
              "      <th>review_id</th>\n",
              "      <th>review_score</th>\n",
              "      <th>review_comment_title</th>\n",
              "      <th>review_comment_message</th>\n",
              "      <th>review_creation_date</th>\n",
              "      <th>review_answer_timestamp</th>\n",
              "    </tr>\n",
              "  </thead>\n",
              "  <tbody>\n",
              "    <tr>\n",
              "      <th>0</th>\n",
              "      <td>00010242fe8c5a6d1ba2dd792cb16214</td>\n",
              "      <td>1</td>\n",
              "      <td>4244733e06e7ecb4970a6e2683c13e61</td>\n",
              "      <td>48436dade18ac8b2bce089ec2a041202</td>\n",
              "      <td>2017-09-19 09:45:35</td>\n",
              "      <td>58.90</td>\n",
              "      <td>13.29</td>\n",
              "      <td>3ce436f183e68e07877b285a838db11a</td>\n",
              "      <td>delivered</td>\n",
              "      <td>2017-09-13 08:59:02</td>\n",
              "      <td>2017-09-13 09:45:35</td>\n",
              "      <td>2017-09-19 18:34:16</td>\n",
              "      <td>2017-09-20 23:43:48</td>\n",
              "      <td>2017-09-29 00:00:00</td>\n",
              "      <td>97ca439bc427b48bc1cd7177abe71365</td>\n",
              "      <td>5</td>\n",
              "      <td>NaN</td>\n",
              "      <td>Perfeito, produto entregue antes do combinado.</td>\n",
              "      <td>2017-09-21 00:00:00</td>\n",
              "      <td>2017-09-22 10:57:03</td>\n",
              "    </tr>\n",
              "    <tr>\n",
              "      <th>1</th>\n",
              "      <td>00018f77f2f0320c557190d7a144bdd3</td>\n",
              "      <td>1</td>\n",
              "      <td>e5f2d52b802189ee658865ca93d83a8f</td>\n",
              "      <td>dd7ddc04e1b6c2c614352b383efe2d36</td>\n",
              "      <td>2017-05-03 11:05:13</td>\n",
              "      <td>239.90</td>\n",
              "      <td>19.93</td>\n",
              "      <td>f6dd3ec061db4e3987629fe6b26e5cce</td>\n",
              "      <td>delivered</td>\n",
              "      <td>2017-04-26 10:53:06</td>\n",
              "      <td>2017-04-26 11:05:13</td>\n",
              "      <td>2017-05-04 14:35:00</td>\n",
              "      <td>2017-05-12 16:04:24</td>\n",
              "      <td>2017-05-15 00:00:00</td>\n",
              "      <td>7b07bacd811c4117b742569b04ce3580</td>\n",
              "      <td>4</td>\n",
              "      <td>NaN</td>\n",
              "      <td>NaN</td>\n",
              "      <td>2017-05-13 00:00:00</td>\n",
              "      <td>2017-05-15 11:34:13</td>\n",
              "    </tr>\n",
              "    <tr>\n",
              "      <th>2</th>\n",
              "      <td>000229ec398224ef6ca0657da4fc703e</td>\n",
              "      <td>1</td>\n",
              "      <td>c777355d18b72b67abbeef9df44fd0fd</td>\n",
              "      <td>5b51032eddd242adc84c38acab88f23d</td>\n",
              "      <td>2018-01-18 14:48:30</td>\n",
              "      <td>199.00</td>\n",
              "      <td>17.87</td>\n",
              "      <td>6489ae5e4333f3693df5ad4372dab6d3</td>\n",
              "      <td>delivered</td>\n",
              "      <td>2018-01-14 14:33:31</td>\n",
              "      <td>2018-01-14 14:48:30</td>\n",
              "      <td>2018-01-16 12:36:48</td>\n",
              "      <td>2018-01-22 13:19:16</td>\n",
              "      <td>2018-02-05 00:00:00</td>\n",
              "      <td>0c5b33dea94867d1ac402749e5438e8b</td>\n",
              "      <td>5</td>\n",
              "      <td>NaN</td>\n",
              "      <td>Chegou antes do prazo previsto e o produto sur...</td>\n",
              "      <td>2018-01-23 00:00:00</td>\n",
              "      <td>2018-01-23 16:06:31</td>\n",
              "    </tr>\n",
              "    <tr>\n",
              "      <th>3</th>\n",
              "      <td>00024acbcdf0a6daa1e931b038114c75</td>\n",
              "      <td>1</td>\n",
              "      <td>7634da152a4610f1595efa32f14722fc</td>\n",
              "      <td>9d7a1d34a5052409006425275ba1c2b4</td>\n",
              "      <td>2018-08-15 10:10:18</td>\n",
              "      <td>12.99</td>\n",
              "      <td>12.79</td>\n",
              "      <td>d4eb9395c8c0431ee92fce09860c5a06</td>\n",
              "      <td>delivered</td>\n",
              "      <td>2018-08-08 10:00:35</td>\n",
              "      <td>2018-08-08 10:10:18</td>\n",
              "      <td>2018-08-10 13:28:00</td>\n",
              "      <td>2018-08-14 13:32:39</td>\n",
              "      <td>2018-08-20 00:00:00</td>\n",
              "      <td>f4028d019cb58564807486a6aaf33817</td>\n",
              "      <td>4</td>\n",
              "      <td>NaN</td>\n",
              "      <td>NaN</td>\n",
              "      <td>2018-08-15 00:00:00</td>\n",
              "      <td>2018-08-15 16:39:01</td>\n",
              "    </tr>\n",
              "    <tr>\n",
              "      <th>4</th>\n",
              "      <td>00042b26cf59d7ce69dfabb4e55b4fd9</td>\n",
              "      <td>1</td>\n",
              "      <td>ac6c3623068f30de03045865e4e10089</td>\n",
              "      <td>df560393f3a51e74553ab94004ba5c87</td>\n",
              "      <td>2017-02-13 13:57:51</td>\n",
              "      <td>199.90</td>\n",
              "      <td>18.14</td>\n",
              "      <td>58dbd0b2d70206bf40e62cd34e84d795</td>\n",
              "      <td>delivered</td>\n",
              "      <td>2017-02-04 13:57:51</td>\n",
              "      <td>2017-02-04 14:10:13</td>\n",
              "      <td>2017-02-16 09:46:09</td>\n",
              "      <td>2017-03-01 16:42:31</td>\n",
              "      <td>2017-03-17 00:00:00</td>\n",
              "      <td>940144190dcba6351888cafa43f3a3a5</td>\n",
              "      <td>5</td>\n",
              "      <td>NaN</td>\n",
              "      <td>Gostei pois veio no prazo determinado .</td>\n",
              "      <td>2017-03-02 00:00:00</td>\n",
              "      <td>2017-03-03 10:54:59</td>\n",
              "    </tr>\n",
              "  </tbody>\n",
              "</table>\n",
              "</div>\n",
              "    <div class=\"colab-df-buttons\">\n",
              "\n",
              "  <div class=\"colab-df-container\">\n",
              "    <button class=\"colab-df-convert\" onclick=\"convertToInteractive('df-803cde2a-bc5b-4374-a4b6-17b8274ee6c5')\"\n",
              "            title=\"Convert this dataframe to an interactive table.\"\n",
              "            style=\"display:none;\">\n",
              "\n",
              "  <svg xmlns=\"http://www.w3.org/2000/svg\" height=\"24px\" viewBox=\"0 -960 960 960\">\n",
              "    <path d=\"M120-120v-720h720v720H120Zm60-500h600v-160H180v160Zm220 220h160v-160H400v160Zm0 220h160v-160H400v160ZM180-400h160v-160H180v160Zm440 0h160v-160H620v160ZM180-180h160v-160H180v160Zm440 0h160v-160H620v160Z\"/>\n",
              "  </svg>\n",
              "    </button>\n",
              "\n",
              "  <style>\n",
              "    .colab-df-container {\n",
              "      display:flex;\n",
              "      gap: 12px;\n",
              "    }\n",
              "\n",
              "    .colab-df-convert {\n",
              "      background-color: #E8F0FE;\n",
              "      border: none;\n",
              "      border-radius: 50%;\n",
              "      cursor: pointer;\n",
              "      display: none;\n",
              "      fill: #1967D2;\n",
              "      height: 32px;\n",
              "      padding: 0 0 0 0;\n",
              "      width: 32px;\n",
              "    }\n",
              "\n",
              "    .colab-df-convert:hover {\n",
              "      background-color: #E2EBFA;\n",
              "      box-shadow: 0px 1px 2px rgba(60, 64, 67, 0.3), 0px 1px 3px 1px rgba(60, 64, 67, 0.15);\n",
              "      fill: #174EA6;\n",
              "    }\n",
              "\n",
              "    .colab-df-buttons div {\n",
              "      margin-bottom: 4px;\n",
              "    }\n",
              "\n",
              "    [theme=dark] .colab-df-convert {\n",
              "      background-color: #3B4455;\n",
              "      fill: #D2E3FC;\n",
              "    }\n",
              "\n",
              "    [theme=dark] .colab-df-convert:hover {\n",
              "      background-color: #434B5C;\n",
              "      box-shadow: 0px 1px 3px 1px rgba(0, 0, 0, 0.15);\n",
              "      filter: drop-shadow(0px 1px 2px rgba(0, 0, 0, 0.3));\n",
              "      fill: #FFFFFF;\n",
              "    }\n",
              "  </style>\n",
              "\n",
              "    <script>\n",
              "      const buttonEl =\n",
              "        document.querySelector('#df-803cde2a-bc5b-4374-a4b6-17b8274ee6c5 button.colab-df-convert');\n",
              "      buttonEl.style.display =\n",
              "        google.colab.kernel.accessAllowed ? 'block' : 'none';\n",
              "\n",
              "      async function convertToInteractive(key) {\n",
              "        const element = document.querySelector('#df-803cde2a-bc5b-4374-a4b6-17b8274ee6c5');\n",
              "        const dataTable =\n",
              "          await google.colab.kernel.invokeFunction('convertToInteractive',\n",
              "                                                    [key], {});\n",
              "        if (!dataTable) return;\n",
              "\n",
              "        const docLinkHtml = 'Like what you see? Visit the ' +\n",
              "          '<a target=\"_blank\" href=https://colab.research.google.com/notebooks/data_table.ipynb>data table notebook</a>'\n",
              "          + ' to learn more about interactive tables.';\n",
              "        element.innerHTML = '';\n",
              "        dataTable['output_type'] = 'display_data';\n",
              "        await google.colab.output.renderOutput(dataTable, element);\n",
              "        const docLink = document.createElement('div');\n",
              "        docLink.innerHTML = docLinkHtml;\n",
              "        element.appendChild(docLink);\n",
              "      }\n",
              "    </script>\n",
              "  </div>\n",
              "\n",
              "\n",
              "<div id=\"df-0d7c6c01-58b5-4297-b004-7b54a3667969\">\n",
              "  <button class=\"colab-df-quickchart\" onclick=\"quickchart('df-0d7c6c01-58b5-4297-b004-7b54a3667969')\"\n",
              "            title=\"Suggest charts\"\n",
              "            style=\"display:none;\">\n",
              "\n",
              "<svg xmlns=\"http://www.w3.org/2000/svg\" height=\"24px\"viewBox=\"0 0 24 24\"\n",
              "     width=\"24px\">\n",
              "    <g>\n",
              "        <path d=\"M19 3H5c-1.1 0-2 .9-2 2v14c0 1.1.9 2 2 2h14c1.1 0 2-.9 2-2V5c0-1.1-.9-2-2-2zM9 17H7v-7h2v7zm4 0h-2V7h2v10zm4 0h-2v-4h2v4z\"/>\n",
              "    </g>\n",
              "</svg>\n",
              "  </button>\n",
              "\n",
              "<style>\n",
              "  .colab-df-quickchart {\n",
              "      --bg-color: #E8F0FE;\n",
              "      --fill-color: #1967D2;\n",
              "      --hover-bg-color: #E2EBFA;\n",
              "      --hover-fill-color: #174EA6;\n",
              "      --disabled-fill-color: #AAA;\n",
              "      --disabled-bg-color: #DDD;\n",
              "  }\n",
              "\n",
              "  [theme=dark] .colab-df-quickchart {\n",
              "      --bg-color: #3B4455;\n",
              "      --fill-color: #D2E3FC;\n",
              "      --hover-bg-color: #434B5C;\n",
              "      --hover-fill-color: #FFFFFF;\n",
              "      --disabled-bg-color: #3B4455;\n",
              "      --disabled-fill-color: #666;\n",
              "  }\n",
              "\n",
              "  .colab-df-quickchart {\n",
              "    background-color: var(--bg-color);\n",
              "    border: none;\n",
              "    border-radius: 50%;\n",
              "    cursor: pointer;\n",
              "    display: none;\n",
              "    fill: var(--fill-color);\n",
              "    height: 32px;\n",
              "    padding: 0;\n",
              "    width: 32px;\n",
              "  }\n",
              "\n",
              "  .colab-df-quickchart:hover {\n",
              "    background-color: var(--hover-bg-color);\n",
              "    box-shadow: 0 1px 2px rgba(60, 64, 67, 0.3), 0 1px 3px 1px rgba(60, 64, 67, 0.15);\n",
              "    fill: var(--button-hover-fill-color);\n",
              "  }\n",
              "\n",
              "  .colab-df-quickchart-complete:disabled,\n",
              "  .colab-df-quickchart-complete:disabled:hover {\n",
              "    background-color: var(--disabled-bg-color);\n",
              "    fill: var(--disabled-fill-color);\n",
              "    box-shadow: none;\n",
              "  }\n",
              "\n",
              "  .colab-df-spinner {\n",
              "    border: 2px solid var(--fill-color);\n",
              "    border-color: transparent;\n",
              "    border-bottom-color: var(--fill-color);\n",
              "    animation:\n",
              "      spin 1s steps(1) infinite;\n",
              "  }\n",
              "\n",
              "  @keyframes spin {\n",
              "    0% {\n",
              "      border-color: transparent;\n",
              "      border-bottom-color: var(--fill-color);\n",
              "      border-left-color: var(--fill-color);\n",
              "    }\n",
              "    20% {\n",
              "      border-color: transparent;\n",
              "      border-left-color: var(--fill-color);\n",
              "      border-top-color: var(--fill-color);\n",
              "    }\n",
              "    30% {\n",
              "      border-color: transparent;\n",
              "      border-left-color: var(--fill-color);\n",
              "      border-top-color: var(--fill-color);\n",
              "      border-right-color: var(--fill-color);\n",
              "    }\n",
              "    40% {\n",
              "      border-color: transparent;\n",
              "      border-right-color: var(--fill-color);\n",
              "      border-top-color: var(--fill-color);\n",
              "    }\n",
              "    60% {\n",
              "      border-color: transparent;\n",
              "      border-right-color: var(--fill-color);\n",
              "    }\n",
              "    80% {\n",
              "      border-color: transparent;\n",
              "      border-right-color: var(--fill-color);\n",
              "      border-bottom-color: var(--fill-color);\n",
              "    }\n",
              "    90% {\n",
              "      border-color: transparent;\n",
              "      border-bottom-color: var(--fill-color);\n",
              "    }\n",
              "  }\n",
              "</style>\n",
              "\n",
              "  <script>\n",
              "    async function quickchart(key) {\n",
              "      const quickchartButtonEl =\n",
              "        document.querySelector('#' + key + ' button');\n",
              "      quickchartButtonEl.disabled = true;  // To prevent multiple clicks.\n",
              "      quickchartButtonEl.classList.add('colab-df-spinner');\n",
              "      try {\n",
              "        const charts = await google.colab.kernel.invokeFunction(\n",
              "            'suggestCharts', [key], {});\n",
              "      } catch (error) {\n",
              "        console.error('Error during call to suggestCharts:', error);\n",
              "      }\n",
              "      quickchartButtonEl.classList.remove('colab-df-spinner');\n",
              "      quickchartButtonEl.classList.add('colab-df-quickchart-complete');\n",
              "    }\n",
              "    (() => {\n",
              "      let quickchartButtonEl =\n",
              "        document.querySelector('#df-0d7c6c01-58b5-4297-b004-7b54a3667969 button');\n",
              "      quickchartButtonEl.style.display =\n",
              "        google.colab.kernel.accessAllowed ? 'block' : 'none';\n",
              "    })();\n",
              "  </script>\n",
              "</div>\n",
              "\n",
              "    </div>\n",
              "  </div>\n"
            ],
            "application/vnd.google.colaboratory.intrinsic+json": {
              "type": "dataframe",
              "variable_name": "data_df"
            }
          },
          "metadata": {},
          "execution_count": 113
        }
      ]
    },
    {
      "cell_type": "code",
      "source": [
        "#Menampilkan info terkait column dari data yang telah di-merge\n",
        "data_df.info()"
      ],
      "metadata": {
        "colab": {
          "base_uri": "https://localhost:8080/"
        },
        "id": "Px7b2AUKqaqb",
        "outputId": "3b077f3d-a3ce-4b68-dd5e-f0a5c7fb5c90"
      },
      "execution_count": null,
      "outputs": [
        {
          "output_type": "stream",
          "name": "stdout",
          "text": [
            "<class 'pandas.core.frame.DataFrame'>\n",
            "RangeIndex: 112372 entries, 0 to 112371\n",
            "Data columns (total 20 columns):\n",
            " #   Column                         Non-Null Count   Dtype  \n",
            "---  ------                         --------------   -----  \n",
            " 0   order_id                       112372 non-null  object \n",
            " 1   order_item_id                  112372 non-null  int64  \n",
            " 2   product_id                     112372 non-null  object \n",
            " 3   seller_id                      112372 non-null  object \n",
            " 4   shipping_limit_date            112372 non-null  object \n",
            " 5   price                          112372 non-null  float64\n",
            " 6   freight_value                  112372 non-null  float64\n",
            " 7   customer_id                    112372 non-null  object \n",
            " 8   order_status                   112372 non-null  object \n",
            " 9   order_purchase_timestamp       112372 non-null  object \n",
            " 10  order_approved_at              112357 non-null  object \n",
            " 11  order_delivered_carrier_date   111188 non-null  object \n",
            " 12  order_delivered_customer_date  110012 non-null  object \n",
            " 13  order_estimated_delivery_date  112372 non-null  object \n",
            " 14  review_id                      112372 non-null  object \n",
            " 15  review_score                   112372 non-null  int64  \n",
            " 16  review_comment_title           13434 non-null   object \n",
            " 17  review_comment_message         47642 non-null   object \n",
            " 18  review_creation_date           112372 non-null  object \n",
            " 19  review_answer_timestamp        112372 non-null  object \n",
            "dtypes: float64(2), int64(2), object(16)\n",
            "memory usage: 17.1+ MB\n"
          ]
        }
      ]
    },
    {
      "cell_type": "markdown",
      "source": [
        "**Insight:**\n",
        "- Mengakses dan membaca file dataset CSV dari folder dataset E-Commerce\n",
        "- Menggabungkan data dataset order_items_dataset.csv, orders_dataset.csv, dan order_reviews_datase.csv\n",
        "- Menampilkan beberapa baris data dari dataset yang digunakan\n",
        "- Memeriksa info data mulai dari tipe data, jumlah non-null, hingga potensi missing value dari data yang di-merge"
      ],
      "metadata": {
        "id": "MMi6xGaDkbCi"
      }
    },
    {
      "cell_type": "markdown",
      "metadata": {
        "id": "FHSiqaZp8DC1"
      },
      "source": [
        "### Assessing Data"
      ]
    },
    {
      "cell_type": "code",
      "source": [
        "print('Missing Value untuk Data Tren Penjualan')\n",
        "data_df.isnull().sum()"
      ],
      "metadata": {
        "id": "ax-3tEjc9Cj1",
        "colab": {
          "base_uri": "https://localhost:8080/",
          "height": 729
        },
        "outputId": "e6710dac-c438-45f5-8f7d-ed338a478396"
      },
      "execution_count": null,
      "outputs": [
        {
          "output_type": "stream",
          "name": "stdout",
          "text": [
            "Missing Value untuk Data Tren Penjualan\n"
          ]
        },
        {
          "output_type": "execute_result",
          "data": {
            "text/plain": [
              "order_id                             0\n",
              "order_item_id                        0\n",
              "product_id                           0\n",
              "seller_id                            0\n",
              "shipping_limit_date                  0\n",
              "price                                0\n",
              "freight_value                        0\n",
              "customer_id                          0\n",
              "order_status                         0\n",
              "order_purchase_timestamp             0\n",
              "order_approved_at                   15\n",
              "order_delivered_carrier_date      1184\n",
              "order_delivered_customer_date     2360\n",
              "order_estimated_delivery_date        0\n",
              "review_id                            0\n",
              "review_score                         0\n",
              "review_comment_title             98938\n",
              "review_comment_message           64730\n",
              "review_creation_date                 0\n",
              "review_answer_timestamp              0\n",
              "dtype: int64"
            ],
            "text/html": [
              "<div>\n",
              "<style scoped>\n",
              "    .dataframe tbody tr th:only-of-type {\n",
              "        vertical-align: middle;\n",
              "    }\n",
              "\n",
              "    .dataframe tbody tr th {\n",
              "        vertical-align: top;\n",
              "    }\n",
              "\n",
              "    .dataframe thead th {\n",
              "        text-align: right;\n",
              "    }\n",
              "</style>\n",
              "<table border=\"1\" class=\"dataframe\">\n",
              "  <thead>\n",
              "    <tr style=\"text-align: right;\">\n",
              "      <th></th>\n",
              "      <th>0</th>\n",
              "    </tr>\n",
              "  </thead>\n",
              "  <tbody>\n",
              "    <tr>\n",
              "      <th>order_id</th>\n",
              "      <td>0</td>\n",
              "    </tr>\n",
              "    <tr>\n",
              "      <th>order_item_id</th>\n",
              "      <td>0</td>\n",
              "    </tr>\n",
              "    <tr>\n",
              "      <th>product_id</th>\n",
              "      <td>0</td>\n",
              "    </tr>\n",
              "    <tr>\n",
              "      <th>seller_id</th>\n",
              "      <td>0</td>\n",
              "    </tr>\n",
              "    <tr>\n",
              "      <th>shipping_limit_date</th>\n",
              "      <td>0</td>\n",
              "    </tr>\n",
              "    <tr>\n",
              "      <th>price</th>\n",
              "      <td>0</td>\n",
              "    </tr>\n",
              "    <tr>\n",
              "      <th>freight_value</th>\n",
              "      <td>0</td>\n",
              "    </tr>\n",
              "    <tr>\n",
              "      <th>customer_id</th>\n",
              "      <td>0</td>\n",
              "    </tr>\n",
              "    <tr>\n",
              "      <th>order_status</th>\n",
              "      <td>0</td>\n",
              "    </tr>\n",
              "    <tr>\n",
              "      <th>order_purchase_timestamp</th>\n",
              "      <td>0</td>\n",
              "    </tr>\n",
              "    <tr>\n",
              "      <th>order_approved_at</th>\n",
              "      <td>15</td>\n",
              "    </tr>\n",
              "    <tr>\n",
              "      <th>order_delivered_carrier_date</th>\n",
              "      <td>1184</td>\n",
              "    </tr>\n",
              "    <tr>\n",
              "      <th>order_delivered_customer_date</th>\n",
              "      <td>2360</td>\n",
              "    </tr>\n",
              "    <tr>\n",
              "      <th>order_estimated_delivery_date</th>\n",
              "      <td>0</td>\n",
              "    </tr>\n",
              "    <tr>\n",
              "      <th>review_id</th>\n",
              "      <td>0</td>\n",
              "    </tr>\n",
              "    <tr>\n",
              "      <th>review_score</th>\n",
              "      <td>0</td>\n",
              "    </tr>\n",
              "    <tr>\n",
              "      <th>review_comment_title</th>\n",
              "      <td>98938</td>\n",
              "    </tr>\n",
              "    <tr>\n",
              "      <th>review_comment_message</th>\n",
              "      <td>64730</td>\n",
              "    </tr>\n",
              "    <tr>\n",
              "      <th>review_creation_date</th>\n",
              "      <td>0</td>\n",
              "    </tr>\n",
              "    <tr>\n",
              "      <th>review_answer_timestamp</th>\n",
              "      <td>0</td>\n",
              "    </tr>\n",
              "  </tbody>\n",
              "</table>\n",
              "</div><br><label><b>dtype:</b> int64</label>"
            ]
          },
          "metadata": {},
          "execution_count": 115
        }
      ]
    },
    {
      "cell_type": "markdown",
      "source": [
        "**Insight:**\n",
        "- Mengidentifikasi jumlah missing value yang ada didalam dataset\n",
        "- Mendeteksi kolom dengan missing values yang signifikan"
      ],
      "metadata": {
        "id": "7dtxhAPrkhPL"
      }
    },
    {
      "cell_type": "markdown",
      "metadata": {
        "id": "EhN5R4hr8DC1"
      },
      "source": [
        "### Cleaning Data"
      ]
    },
    {
      "cell_type": "code",
      "source": [
        "# Ubah kolom product_id menjadi string\n",
        "data_df['product_id'] = data_df['product_id'].astype(str)\n",
        "\n",
        "# Menghapus baris atau kolom yang memiliki missing value dari data\n",
        "data_clean = data_df.dropna()\n",
        "\n",
        "# Mengisi nilai NaN di kolom product_id dengan mode (nilai yang paling sering muncul)\n",
        "data_df['product_id'].fillna(data_df['product_id'].mode()[0], inplace=True)\n",
        "\n",
        "# Pastikan kolom order_purchase_timestamp adalah datetime\n",
        "data_df['order_purchase_timestamp'] = pd.to_datetime(data_df['order_purchase_timestamp'], errors='coerce')\n",
        "\n",
        "# Mengisi nilai NaN di kolom order_purchase_timestamp dengan tanggal tertentu\n",
        "# Misalnya, menggunakan tanggal awal (atau bisa diganti sesuai kebutuhan)\n",
        "default_date = pd.to_datetime('2000-01-01')  # atau bisa menggunakan tanggal lain yang relevan\n",
        "data_df['order_purchase_timestamp'].fillna(default_date, inplace=True)\n",
        "\n",
        "# Mengatasi duplikasi pada data\n",
        "data_df.drop_duplicates(inplace=True)\n",
        "\n",
        "# Menampilkan jumlah nilai NaN pada setiap kolom\n",
        "print(data_df.isnull().sum())"
      ],
      "metadata": {
        "id": "jVnYpprE9Evz",
        "colab": {
          "base_uri": "https://localhost:8080/"
        },
        "outputId": "e3fe51dd-3241-4cbc-ea6e-3ac395171274"
      },
      "execution_count": null,
      "outputs": [
        {
          "output_type": "stream",
          "name": "stdout",
          "text": [
            "order_id                         0\n",
            "order_item_id                    0\n",
            "product_id                       0\n",
            "seller_id                        0\n",
            "shipping_limit_date              0\n",
            "price                            0\n",
            "freight_value                    0\n",
            "customer_id                      0\n",
            "order_status                     0\n",
            "order_purchase_timestamp         0\n",
            "order_approved_at                0\n",
            "order_delivered_carrier_date     0\n",
            "order_delivered_customer_date    0\n",
            "order_estimated_delivery_date    0\n",
            "review_id                        0\n",
            "review_score                     0\n",
            "review_comment_title             0\n",
            "review_comment_message           0\n",
            "review_creation_date             0\n",
            "review_answer_timestamp          0\n",
            "dtype: int64\n"
          ]
        }
      ]
    },
    {
      "cell_type": "markdown",
      "source": [
        "**Insight:**\n",
        "- Mengubah tipe data kolom product_id untuk memastikan konsistensi\n",
        "- Menghapus baris dengan nilai missing value\n",
        "- Mengisi nilai NaN pada kolom dengan mode untuk menjaga integritas data dan mengurangi bias\n",
        "- Mengubah format kolom order_purchase_timestamp menjadi datetime\n",
        "- Menghapus duplikasi data dalam dataset"
      ],
      "metadata": {
        "id": "Q_5ejIqckiSP"
      }
    },
    {
      "cell_type": "markdown",
      "metadata": {
        "id": "gp-Y6wU38DC1"
      },
      "source": [
        "## **Exploratory Data Analysis (EDA)**"
      ]
    },
    {
      "cell_type": "markdown",
      "metadata": {
        "id": "MW7WF2kr8DC1"
      },
      "source": [
        "### Explore Penjualan Tiap Bulan"
      ]
    },
    {
      "cell_type": "code",
      "source": [
        "data_df['penjualan'] = data_df['order_item_id'] * data_df['price']\n",
        "\n",
        "data_df['order_purchase_timestamp'] = pd.to_datetime(data_df['order_purchase_timestamp'])\n",
        "data_df['month'] = data_df['order_purchase_timestamp'].dt.to_period('M')\n",
        "data_df['year'] = data_df['order_purchase_timestamp'].dt.to_period('Y')\n",
        "# Menghitung total penjualan bulanan\n",
        "penjualan_bulanan = data_df.groupby(['year', 'month']).agg({'penjualan': 'sum'}).reset_index()\n",
        "\n",
        "penjualan_bulanan['year'] = penjualan_bulanan['month'].dt.year\n",
        "penjualan_bulanan['month_number'] = penjualan_bulanan['month'].dt.month\n",
        "\n",
        "# Tampilkan hasil\n",
        "print(penjualan_bulanan)"
      ],
      "metadata": {
        "colab": {
          "base_uri": "https://localhost:8080/"
        },
        "id": "ggPG3chyyyGM",
        "outputId": "38e638f8-bc10-456e-ce58-51db545f85b7"
      },
      "execution_count": null,
      "outputs": [
        {
          "output_type": "stream",
          "name": "stdout",
          "text": [
            "    year    month  penjualan  month_number\n",
            "0   2017  2017-05      99.00             5\n",
            "1   2017  2017-06      69.90             6\n",
            "2   2017  2017-09     299.99             9\n",
            "3   2017  2017-10     257.00            10\n",
            "4   2017  2017-11     119.90            11\n",
            "5   2017  2017-12     141.98            12\n",
            "6   2018  2018-01     615.70             1\n",
            "7   2018  2018-02    4071.61             2\n",
            "8   2018  2018-03   23387.88             3\n",
            "9   2018  2018-04  249268.21             4\n",
            "10  2018  2018-05  416656.62             5\n",
            "11  2018  2018-06  355106.08             6\n",
            "12  2018  2018-07  349943.14             7\n",
            "13  2018  2018-08  299153.17             8\n"
          ]
        }
      ]
    },
    {
      "cell_type": "markdown",
      "source": [
        "### Explore Korelasi Review Product dengan Penjualan Product"
      ],
      "metadata": {
        "id": "osfUJIroB0yr"
      }
    },
    {
      "cell_type": "code",
      "source": [
        "# Menghitung total penjualan per order_id\n",
        "total_penjualan = data_df.groupby('order_id').agg({'penjualan': 'sum'}).reset_index()\n",
        "\n",
        "# Menghitung rata-rata rating ulasan per order_id\n",
        "average_rating = df3.groupby('order_id').agg({'review_score': 'mean'}).reset_index()\n",
        "\n",
        "# Menggabungkan total penjualan dan rata-rata rating berdasarkan order_id\n",
        "correlation_data = pd.merge(total_penjualan, average_rating, on='order_id', how='inner')\n",
        "\n",
        "# Menyusun dataframe untuk analisis korelasi\n",
        "correlation_data = correlation_data.rename(columns={'penjualan': 'Total Penjualan', 'review_score': 'Rata-rata Rating'})\n",
        "\n",
        "# Menghapus kolom order_id untuk analisis korelasi\n",
        "correlation_data = correlation_data.drop(columns='order_id')\n",
        "\n",
        "# Misalkan df3 adalah DataFrame yang berisi review, dan kita hitung jumlah ulasan per produk (berdasarkan order_id)\n",
        "jumlah_ulasan = df3.groupby('order_id').size().reset_index(name='Jumlah Ulasan')\n",
        "\n",
        "# Menghitung rata-rata rating per order_id\n",
        "average_rating = df3.groupby('order_id').agg({'review_score': 'mean'}).reset_index()\n",
        "\n",
        "# Menggabungkan total penjualan dan rata-rata rating berdasarkan order_id\n",
        "correlation_data = pd.merge(total_penjualan, average_rating, on='order_id')\n",
        "correlation_data = pd.merge(correlation_data, jumlah_ulasan, on='order_id')"
      ],
      "metadata": {
        "id": "I-pR1OxzDzNM"
      },
      "execution_count": null,
      "outputs": []
    },
    {
      "cell_type": "code",
      "source": [
        "# Memeriksa hasil penggabungan\n",
        "print(correlation_data.head())\n",
        "print(correlation_data.columns)\n",
        "\n",
        "# Menghitung matriks korelasi\n",
        "correlation_matrix = correlation_data[['penjualan', 'review_score', 'Jumlah Ulasan']].corr()"
      ],
      "metadata": {
        "colab": {
          "base_uri": "https://localhost:8080/"
        },
        "id": "6eEbAywpFKud",
        "outputId": "4d36b73f-a0f0-4ff2-8def-19442f6a1000"
      },
      "execution_count": null,
      "outputs": [
        {
          "output_type": "stream",
          "name": "stdout",
          "text": [
            "                           order_id  penjualan  review_score  Jumlah Ulasan\n",
            "0  0006ec9db01a64e59a68b2c340bf65a7       74.0           5.0              1\n",
            "1  000aed2e25dbad2f9ddb70584c5a2ded      144.0           1.0              1\n",
            "2  00130c0eee84a3d909e75bc08c5c3ca1       27.9           5.0              1\n",
            "3  001e7cf2ad6bef3ade12ebc56ceaf0f3       35.9           1.0              1\n",
            "4  002175704e8b209f61b9ad5cfd92b60e      109.9           4.0              1\n",
            "Index(['order_id', 'penjualan', 'review_score', 'Jumlah Ulasan'], dtype='object')\n"
          ]
        }
      ]
    },
    {
      "cell_type": "markdown",
      "source": [
        "**Insight EDA Penjualan Tiap Bulan:**\n",
        "- Menghitung total penjualan untuk setiap bulan dengan mengalikan jumlah item pesanan (order_item_id) dengan harga (price). Ini menghasilkan kolom baru penjualan yang memberikan gambaran menyeluruh tentang pendapatan bulanan.\n",
        "- Mengekstrak bulan dan tahun dari kolom order_purchase_timestamp untuk memantau tren penjualan tiap bulan.\n",
        "- Menghitung total penjulaan berdasarkan tahun dan bulan dengan menggunakan groupby().\n",
        "\n",
        "**Insight EDA Korelasi Review Product dengan Penjualan:**\n",
        "- Mengelompokkan data berdasarkan order_id untuk menghitung total penjualan per pesanan.\n",
        "- Menghitung rating dari review untuk setiap pesanan dengan mengelompokkan berdasarkan order_id.\n",
        "- Menghitung jumlah ulasan per produk dan menggabungkannya dengan data penjualan dan rating untuk analisis yang lebih mendalam tentang seberapa besar pengaruh jumlah ulasan terhadap penjualan dan rating."
      ],
      "metadata": {
        "id": "th_Lzl2Fkj9O"
      }
    },
    {
      "cell_type": "markdown",
      "metadata": {
        "id": "zsyZjqak8DC2"
      },
      "source": [
        "## **Visualization & Explanatory Analysis**"
      ]
    },
    {
      "cell_type": "markdown",
      "metadata": {
        "id": "HZxOiQ6n8DC2"
      },
      "source": [
        "### Pertanyaan 1: Bagaimanan tren penjualan bulanan?\n",
        "\n"
      ]
    },
    {
      "cell_type": "code",
      "execution_count": null,
      "metadata": {
        "id": "1swJUdAD8DC2",
        "colab": {
          "base_uri": "https://localhost:8080/",
          "height": 521
        },
        "outputId": "20dc2eff-5fec-4d2f-b898-0cd2fffd52ce"
      },
      "outputs": [
        {
          "output_type": "display_data",
          "data": {
            "text/plain": [
              "<Figure size 1200x600 with 1 Axes>"
            ],
            "image/png": "[encoded data removed]"
          },
          "metadata": {}
        }
      ],
      "source": [
        "# Mengatur ukuran figure\n",
        "plt.figure(figsize=(12, 6))\n",
        "\n",
        "# Plotting total penjualan bulanan dengan skala logaritmik\n",
        "plt.plot(penjualan_bulanan['month'].astype(str), penjualan_bulanan['penjualan'], marker='o')\n",
        "\n",
        "# Menambahkan judul dan label\n",
        "plt.title('Tren Penjualan Bulanan (Skala Logaritmik)', fontsize=16)\n",
        "plt.xlabel('Bulan', fontsize=14)\n",
        "plt.ylabel('Total Penjualan (IDR - Log Scale)', fontsize=14)\n",
        "plt.xticks(rotation=45)  # Memutar label sumbu x agar lebih mudah dibaca\n",
        "plt.grid()\n",
        "\n",
        "# Mengatur sumbu Y ke skala logaritmik\n",
        "plt.yscale('log')\n",
        "\n",
        "# Menambahkan formatter untuk sumbu Y\n",
        "plt.gca().yaxis.set_major_formatter(ticker.StrMethodFormatter('{x:,.0f}'))\n",
        "\n",
        "# Menampilkan grafik\n",
        "plt.tight_layout()  # Mengatur layout agar tidak ada yang terpotong\n",
        "plt.show()"
      ]
    },
    {
      "cell_type": "markdown",
      "metadata": {
        "id": "DgHI7CiU8DC2"
      },
      "source": [
        "### Pertanyaan 2: Apakah ada korelasi antara review produk dan penjualannya?"
      ]
    },
    {
      "cell_type": "code",
      "execution_count": null,
      "metadata": {
        "id": "Go0lCsvO8DC2",
        "colab": {
          "base_uri": "https://localhost:8080/",
          "height": 607
        },
        "outputId": "e817b3f0-19ad-4f03-8af1-3f601843e15d"
      },
      "outputs": [
        {
          "output_type": "display_data",
          "data": {
            "text/plain": [
              "<Figure size 800x600 with 2 Axes>"
            ],
            "image/png": "[encoded data removed]"
          },
          "metadata": {}
        }
      ],
      "source": [
        "# Mengatur ukuran figure untuk heatmap\n",
        "plt.figure(figsize=(8, 6))\n",
        "\n",
        "# Membuat heatmap\n",
        "sns.heatmap(correlation_matrix, annot=True, fmt='.2f', cmap='coolwarm', square=True, cbar_kws={\"shrink\": .8})\n",
        "\n",
        "# Menambahkan judul\n",
        "plt.title('Korelasi antara Total Penjualan dan Rata-rata Rating', fontsize=16)\n",
        "\n",
        "# Menampilkan grafik\n",
        "plt.tight_layout()\n",
        "plt.show()"
      ]
    },
    {
      "cell_type": "code",
      "source": [
        "# Visualisasi menggunakan scatter plot\n",
        "plt.figure(figsize=(10, 6))\n",
        "sns.scatterplot(data=correlation_data, x='penjualan', y='review_score')\n",
        "plt.title('Scatter Plot: Total Penjualan vs Rata-rata Rating')\n",
        "plt.xlabel('Total Penjualan (IDR)')\n",
        "plt.ylabel('Rata-rata Rating')\n",
        "plt.grid()\n",
        "plt.show()"
      ],
      "metadata": {
        "colab": {
          "base_uri": "https://localhost:8080/",
          "height": 564
        },
        "id": "EUw_j8AqEAYu",
        "outputId": "8ad6b6e0-0895-46e1-cc8f-e9f84c2f7d2e"
      },
      "execution_count": null,
      "outputs": [
        {
          "output_type": "display_data",
          "data": {
            "text/plain": [
              "<Figure size 1000x600 with 1 Axes>"
            ],
            "image/png": "[encoded data removed]"
          },
          "metadata": {}
        }
      ]
    },
    {
      "cell_type": "markdown",
      "source": [
        "**Insight**\n",
        "- Grafik menunjukkan total penjualan bulanan dengan marker untuk setiap titik data, memberikan gambaran yang jelas tentang fluktuasi penjualan setiap bulan.\n",
        "- Heatmap memberikan gambaran visual yang kuat mengenai korelasi antara total penjualan dan rata-rata rating. Nilai korelasi yang ditampilkan dalam bentuk warna memudahkan interpretasi, di mana warna yang lebih gelap menunjukkan hubungan yang lebih kuat.\n",
        "- Visualisasi hubungan antara total penjualan dan rata-rata rating produk dibuat menggunakan scatter plot agar memungkinkan identifikasi pola, outlier, atau kecenderungan tertentu dalam data."
      ],
      "metadata": {
        "id": "_0-36BDLklRg"
      }
    },
    {
      "cell_type": "markdown",
      "source": [
        "## Analisis Lanjutan (Opsional)"
      ],
      "metadata": {
        "id": "9y4VUsmcYNZ5"
      }
    },
    {
      "cell_type": "code",
      "source": [
        "# --- RFM Analysis ---\n",
        "# Menghitung Recency, Frequency, dan Monetary\n",
        "snapshot_date = data_df['order_purchase_timestamp'].max() + pd.Timedelta(days=1)  # Tanggal snapshot\n",
        "rfm_df = data_df.groupby('customer_id').agg({\n",
        "    'order_purchase_timestamp': lambda x: (snapshot_date - x.max()).days,\n",
        "    'order_id': 'count',\n",
        "    'penjualan': 'sum'\n",
        "}).rename(columns={'order_purchase_timestamp': 'Recency', 'order_id': 'Frequency', 'penjualan': 'Monetary'})\n",
        "\n",
        "# Menampilkan RFM dataframe\n",
        "print(rfm_df.head())\n",
        "\n",
        "# --- Clustering ---\n",
        "# Binning untuk Recency\n",
        "bins_recency = [0, 30, 60, 90, 180, 365, 1000]\n",
        "labels_recency = ['Very Recent', 'Recent', 'Moderate', 'Old', 'Very Old', 'Inactive']\n",
        "rfm_df['Recency Group'] = pd.cut(rfm_df['Recency'], bins=bins_recency, labels=labels_recency)\n",
        "\n",
        "# Binning untuk Frequency\n",
        "bins_frequency = [0, 1, 2, 5, 10, 20, 100]\n",
        "labels_frequency = ['New', 'Infrequent', 'Moderate', 'Frequent', 'Very Frequent', 'Loyal']\n",
        "rfm_df['Frequency Group'] = pd.cut(rfm_df['Frequency'], bins=bins_frequency, labels=labels_frequency)\n",
        "\n",
        "# Binning untuk Monetary\n",
        "bins_monetary = [0, 100, 500, 1000, 5000, 10000, 100000]\n",
        "labels_monetary = ['Low', 'Medium', 'High', 'Very High', 'Premium', 'Luxury']\n",
        "rfm_df['Monetary Group'] = pd.cut(rfm_df['Monetary'], bins=bins_monetary, labels=labels_monetary)\n",
        "\n",
        "# Tampilkan hasil clustering\n",
        "print(rfm_df[['Recency', 'Frequency', 'Monetary', 'Recency Group', 'Frequency Group', 'Monetary Group']].head())\n",
        "\n",
        "# Visualisasi Clustering\n",
        "plt.figure(figsize=(12, 6))\n",
        "sns.countplot(data=rfm_df, x='Recency Group', hue='Frequency Group', palette='Set2')\n",
        "plt.title('Distribusi Pelanggan berdasarkan Recency dan Frequency')\n",
        "plt.xlabel('Kelompok Recency')\n",
        "plt.ylabel('Jumlah Pelanggan')\n",
        "plt.legend(title='Kelompok Frequency')\n",
        "plt.show()"
      ],
      "metadata": {
        "id": "iWhnzsJGYUCO",
        "colab": {
          "base_uri": "https://localhost:8080/",
          "height": 946
        },
        "outputId": "70e1526f-f6fd-4267-efab-ae0fd75b09cb"
      },
      "execution_count": null,
      "outputs": [
        {
          "output_type": "stream",
          "name": "stdout",
          "text": [
            "                                  Recency  Frequency  Monetary\n",
            "customer_id                                                   \n",
            "001051abfcfdbed9f87b4266213a5df1       92          1     49.97\n",
            "0013cd8e350a7cc76873441e431dd5ee      114          1     79.90\n",
            "0015bc9fd2d5395446143e8b215d7c75       79          1    122.99\n",
            "0018c09f333634ca9c80d9ff46e43e9c       59          1     42.99\n",
            "001df1ee5c36767aa607001ab1a13a06       24          1     29.99\n",
            "                                  Recency  Frequency  Monetary Recency Group  \\\n",
            "customer_id                                                                    \n",
            "001051abfcfdbed9f87b4266213a5df1       92          1     49.97           Old   \n",
            "0013cd8e350a7cc76873441e431dd5ee      114          1     79.90           Old   \n",
            "0015bc9fd2d5395446143e8b215d7c75       79          1    122.99      Moderate   \n",
            "0018c09f333634ca9c80d9ff46e43e9c       59          1     42.99        Recent   \n",
            "001df1ee5c36767aa607001ab1a13a06       24          1     29.99   Very Recent   \n",
            "\n",
            "                                 Frequency Group Monetary Group  \n",
            "customer_id                                                      \n",
            "001051abfcfdbed9f87b4266213a5df1             New            Low  \n",
            "0013cd8e350a7cc76873441e431dd5ee             New            Low  \n",
            "0015bc9fd2d5395446143e8b215d7c75             New         Medium  \n",
            "0018c09f333634ca9c80d9ff46e43e9c             New            Low  \n",
            "001df1ee5c36767aa607001ab1a13a06             New            Low  \n"
          ]
        },
        {
          "output_type": "display_data",
          "data": {
            "text/plain": [
              "<Figure size 1200x600 with 1 Axes>"
            ],
            "image/png": "[encoded data removed]"
          },
          "metadata": {}
        }
      ]
    },
    {
      "cell_type": "markdown",
      "metadata": {
        "id": "_WeHlCeX8DC2"
      },
      "source": [
        "## Conclusion"
      ]
    },
    {
      "cell_type": "markdown",
      "metadata": {
        "id": "ZTcyR48Y8DC2"
      },
      "source": [
        "### Conclusion Pertanyaan 1\n",
        "*   Penjualan bulanan menunjukkan variasi yang jelas. Misalnya, penjualan meningkat drastis dari 99.00 IDR di bulan Mei 2017 menjadi 416,656.62 IDR pada bulan Mei 2018.\n",
        "*   Bulan dengan penjualan tertinggi, seperti April dan Mei 2018, menunjukkan bahwa ada waktu tertentu di mana pelanggan lebih banyak berbelanja.\n",
        "*   Ada kemungkinan pola musiman dalam penjualan, di mana pelanggan lebih aktif membeli produk pada bulan-bulan tertentu.Perusahaan bisa mengadakan lebih banyak promosi pada bulan-bulan dengan penjualan rendah untuk meningkatkan minat beli.\n",
        "\n",
        "### Conclusion pertanyaan 2\n",
        "*   Terdapat korelasi yang signifikan antara review_score dan penjualan. Artinya, semakin tinggi rating produk, semakin besar kemungkinan penjualannya meningkat.  Meskipun review_score berhubungan dengan penjualan, pengaruhnya terhadap total penjualan bisa dianggap tidak terlalu besar. Ini berarti ada faktor lain yang lebih dominan dalam menentukan keberhasilan penjualan produk.\n",
        "*   Data menunjukkan bahwa jumlah ulasan tidak berpengaruh terhadap penjualan. Ini menunjukkan bahwa kualitas rating lebih penting daripada kuantitas ulasan. Oleh karena itu, Perusahaan sebaiknya lebih fokus pada meningkatkan kualitas produk dan pengalaman pelanggan untuk mendapatkan ulasan yang lebih baik, daripada hanya berusaha mengumpulkan banyak ulasan.\n",
        "\n"
      ]
    }
  ],
  "metadata": {
    "kernelspec": {
      "display_name": "Python 3",
      "language": "python",
      "name": "python3"
    },
    "language_info": {
      "name": "python",
      "version": "3.8.0 (tags/v3.8.0:fa919fd, Oct 14 2019, 19:21:23) [MSC v.1916 32 bit (Intel)]"
    },
    "orig_nbformat": 4,
    "vscode": {
      "interpreter": {
        "hash": "972b3bf27e332e87b5379f2791f6ef9dfc79c71018c370b0d7423235e20fe4d7"
      }
    },
    "colab": {
      "provenance": []
    }
  },
  "nbformat": 4,
  "nbformat_minor": 0
}